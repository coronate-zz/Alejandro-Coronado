{
 "cells": [
  {
   "cell_type": "markdown",
   "metadata": {},
   "source": [
    "# Aprendizaje de Maquina en el mercado de acciones\n",
    "## Alejandro Coronado Narváez\n"
   ]
  },
  {
   "cell_type": "markdown",
   "metadata": {},
   "source": [
    "### Ciencias de la Computación."
   ]
  },
  {
   "cell_type": "markdown",
   "metadata": {},
   "source": [
    "Las tecnicas de aprendizaje de maquina nos permiten explorar la infromación de una forma en la que antes era imposible. Muchos avances se han realizado en lus ultimos años en deep learning y cada vez encontramos más aplicaciones útiles tanto en medicina, reconocimiento de imagen y en data science. Es importante seguir aplicando estas tecnicas cada vez a campos más diversos y comprar los resultados de tal manera que podamos comprender que es lo que sucede en machine learning y cuales son los requsitos necesarios para tener resultados eficientes.\n",
    "\n",
    "Un area no muy explorada en aprendizaje de maquina es el mercado de acciónes. La principal razón por la que no se ha desarrollado es que el mercado de acciónes es muy volatil y las prediucciones de nuestros codigos no son muy acertados. No obstante, podemos cambiar este enfoque y usar el aprendizaje de maquina como una herramienta para clasificar las acciones en lugar de hacer predicciones. Podemos profundizar cada vez más en esta clasificacoión hasta el punto de saber con un buen intervalo de confianza cuales son las acciones menos riesgosas y con mayores rendimientos o cuales acciones corren riesgo caer.\n",
    "\n",
    "En el siguiente documuento se exponen un ejercicio con los precios y caracteristicas de las acciones para determinar si una acción puede o no superar al mercado para un dia determinado. Se trata de un problema de clasificación donde la acción sera categorizada como 1 si el cambio porcentual del precio de una acción es mayor que el cambio porcentual en el mercado global. El cambio en el mercado estará determinado por el indice S&P500 que nos da infromación sobre el comportamiento real del mercado.\n",
    "En el data set tenemos la variable Difference que representa la diferencia en los cambios porcentuales de la accion y el mercado y la variable Status que es la categoria 'Outperform', 'Underperform'asiganada a esta diferencia.\n",
    "\n",
    "La infromación es obtenida de tres fuentes principales:\n",
    "* Estadísticas clave para 536 acciones a lo largo de 3 años - Yahoo Finance\n",
    "* S&P 500 Index - Quandl\n",
    "* Precio de las acciones ajustadas - Quandl\n",
    "\n",
    "La base de datos es obtenidad a traves de varios archivos html (para infromación sobre recolección y limpieza de datos consultar el codigo de utils.py) de yahoo finance donde seleccionamos las variables de interes utilizando web scrapping y las API de las paginas de Yahoo y Quandl. Una vez que juntamos la información en una sóla base de datos y eliminamos los valores NA tendremos un total de 3013 obserbaciones correspondientes a X acciones diferentes.\n",
    "\n",
    "Para cada stock tenemos las siguientes variables que nos ayudar a determinar la categoria a la que pertenecen:\n",
    "* Total Debt/Equity \n",
    "* Trailing P/E\n",
    "* Price/Sales\n",
    "* Price/Book\n",
    "* Profit Margin\n",
    "* Operating Margin\n",
    "* Return on Assets\n",
    "* Return on Equity\n",
    "* Revenue Per Share\n",
    "* Market Cap\n",
    "* Enterprise Value\n",
    "* Forward P/E\n",
    "* PEG Ratio\n",
    "* Enterprise Value/Revenue\n",
    "* Enterprise Value/EBITDA\n",
    "* Revenue\n",
    "* Gross Profit\n",
    "* EBITDA\n",
    "* Net Income Avl to Common \n",
    "* Diluted EPS\n",
    "* Earnings Growth\n",
    "* Revenue Growth\n",
    "* Total Cash\n",
    "* Total Cash Per Share\n",
    "* Total Debt\n",
    "* Current Ratio\n",
    "* Book Value Per Share\n",
    "* Cash Flow\n",
    "* Beta\n",
    "* Held by Insiders\n",
    "* Held by Institutions\n",
    "* Shares Short (as of\n",
    "* Short Ratio\n",
    "* Short % of Float\n",
    "* Shares\n",
    " \n",
    "Antes de proceder a la etapa de evaluación utilizaremos estandarización sobre lo datos y hacer un análisis descriptivo para interpretar y darle sentido a nuestros datos."
   ]
  },
  {
   "cell_type": "markdown",
   "metadata": {},
   "source": [
    "### Análisis Descriptivo.\n",
    "Cargando Paqueteria:"
   ]
  },
  {
   "cell_type": "code",
   "execution_count": 1,
   "metadata": {
    "collapsed": false
   },
   "outputs": [],
   "source": [
    "\n",
    "import numpy as np\n",
    "import matplotlib.pyplot as plt\n",
    "from sklearn import svm, preprocessing\n",
    "import pandas as pd\n",
    "from sklearn import metrics\n",
    "from sklearn import tree\n",
    "from matplotlib import style\n",
    "from sklearn.metrics import accuracy_score\n",
    "from sklearn.ensemble import RandomForestClassifier\n",
    "from sklearn.cross_validation import train_test_split\n",
    "style.use(\"ggplot\")\n",
    "%matplotlib inline "
   ]
  },
  {
   "cell_type": "markdown",
   "metadata": {},
   "source": [
    "Vista de los datos:"
   ]
  },
  {
   "cell_type": "code",
   "execution_count": 3,
   "metadata": {
    "collapsed": false
   },
   "outputs": [
    {
     "data": {
      "text/html": [
       "<div>\n",
       "<table border=\"1\" class=\"dataframe\">\n",
       "  <thead>\n",
       "    <tr style=\"text-align: right;\">\n",
       "      <th></th>\n",
       "      <th>Date</th>\n",
       "      <th>Unix</th>\n",
       "      <th>Ticker</th>\n",
       "      <th>Price</th>\n",
       "      <th>stock_p_change</th>\n",
       "      <th>SP500</th>\n",
       "      <th>sp500_p_change</th>\n",
       "      <th>Difference</th>\n",
       "      <th>DE Ratio</th>\n",
       "      <th>Trailing P/E</th>\n",
       "      <th>...</th>\n",
       "      <th>Book Value Per Share</th>\n",
       "      <th>Cash Flow</th>\n",
       "      <th>Beta</th>\n",
       "      <th>Held by Insiders</th>\n",
       "      <th>Held by Institutions</th>\n",
       "      <th>Shares Short (as of</th>\n",
       "      <th>Short Ratio</th>\n",
       "      <th>Short % of Float</th>\n",
       "      <th>Shares Short (prior</th>\n",
       "      <th>Status</th>\n",
       "    </tr>\n",
       "  </thead>\n",
       "  <tbody>\n",
       "    <tr>\n",
       "      <th>0</th>\n",
       "      <td>2011-08-02 06:45:37</td>\n",
       "      <td>1.312286e+09</td>\n",
       "      <td>a</td>\n",
       "      <td>37.11</td>\n",
       "      <td>-1.48</td>\n",
       "      <td>1254.050049</td>\n",
       "      <td>9.67</td>\n",
       "      <td>-11.15</td>\n",
       "      <td>54.360</td>\n",
       "      <td>16.18</td>\n",
       "      <td>...</td>\n",
       "      <td>11.360</td>\n",
       "      <td>1.420000e+10</td>\n",
       "      <td>1.550</td>\n",
       "      <td>0.25</td>\n",
       "      <td>82.10</td>\n",
       "      <td>4360000.0</td>\n",
       "      <td>1.200</td>\n",
       "      <td>1.40</td>\n",
       "      <td>5420000.0</td>\n",
       "      <td>underperform</td>\n",
       "    </tr>\n",
       "    <tr>\n",
       "      <th>1</th>\n",
       "      <td>2013-05-14 00:28:58</td>\n",
       "      <td>1.368509e+09</td>\n",
       "      <td>a</td>\n",
       "      <td>42.44</td>\n",
       "      <td>28.28</td>\n",
       "      <td>1650.339966</td>\n",
       "      <td>14.43</td>\n",
       "      <td>13.85</td>\n",
       "      <td>44.120</td>\n",
       "      <td>13.75</td>\n",
       "      <td>...</td>\n",
       "      <td>15.410</td>\n",
       "      <td>1.320000e+09</td>\n",
       "      <td>1.660</td>\n",
       "      <td>0.23</td>\n",
       "      <td>83.20</td>\n",
       "      <td>4370000.0</td>\n",
       "      <td>1.200</td>\n",
       "      <td>1.30</td>\n",
       "      <td>3080000.0</td>\n",
       "      <td>outperform</td>\n",
       "    </tr>\n",
       "    <tr>\n",
       "      <th>2</th>\n",
       "      <td>2013-09-06 06:09:52</td>\n",
       "      <td>1.378466e+09</td>\n",
       "      <td>a</td>\n",
       "      <td>45.91</td>\n",
       "      <td>23.57</td>\n",
       "      <td>1655.170044</td>\n",
       "      <td>20.88</td>\n",
       "      <td>2.69</td>\n",
       "      <td>56.390</td>\n",
       "      <td>17.74</td>\n",
       "      <td>...</td>\n",
       "      <td>14.460</td>\n",
       "      <td>1.260000e+09</td>\n",
       "      <td>1.810</td>\n",
       "      <td>0.23</td>\n",
       "      <td>83.50</td>\n",
       "      <td>2780000.0</td>\n",
       "      <td>1.200</td>\n",
       "      <td>0.80</td>\n",
       "      <td>3300000.0</td>\n",
       "      <td>outperform</td>\n",
       "    </tr>\n",
       "    <tr>\n",
       "      <th>3</th>\n",
       "      <td>2004-04-13 04:20:10</td>\n",
       "      <td>1.081848e+09</td>\n",
       "      <td>aa</td>\n",
       "      <td>81.88</td>\n",
       "      <td>-7.28</td>\n",
       "      <td>1129.439941</td>\n",
       "      <td>3.93</td>\n",
       "      <td>-11.21</td>\n",
       "      <td>0.595</td>\n",
       "      <td>24.92</td>\n",
       "      <td>...</td>\n",
       "      <td>14.078</td>\n",
       "      <td>2.530000e+09</td>\n",
       "      <td>1.808</td>\n",
       "      <td>1.00</td>\n",
       "      <td>79.36</td>\n",
       "      <td>12540000.0</td>\n",
       "      <td>2.497</td>\n",
       "      <td>1.46</td>\n",
       "      <td>12700000.0</td>\n",
       "      <td>underperform</td>\n",
       "    </tr>\n",
       "    <tr>\n",
       "      <th>4</th>\n",
       "      <td>2004-09-09 16:15:45</td>\n",
       "      <td>1.094765e+09</td>\n",
       "      <td>aa</td>\n",
       "      <td>82.33</td>\n",
       "      <td>-17.75</td>\n",
       "      <td>1118.380005</td>\n",
       "      <td>11.01</td>\n",
       "      <td>-28.76</td>\n",
       "      <td>0.561</td>\n",
       "      <td>20.88</td>\n",
       "      <td>...</td>\n",
       "      <td>14.049</td>\n",
       "      <td>1.780000e+09</td>\n",
       "      <td>1.676</td>\n",
       "      <td>1.00</td>\n",
       "      <td>76.64</td>\n",
       "      <td>7780000.0</td>\n",
       "      <td>1.935</td>\n",
       "      <td>0.90</td>\n",
       "      <td>7930000.0</td>\n",
       "      <td>underperform</td>\n",
       "    </tr>\n",
       "  </tbody>\n",
       "</table>\n",
       "<p>5 rows × 44 columns</p>\n",
       "</div>"
      ],
      "text/plain": [
       "                  Date          Unix Ticker  Price  stock_p_change  \\\n",
       "0  2011-08-02 06:45:37  1.312286e+09      a  37.11           -1.48   \n",
       "1  2013-05-14 00:28:58  1.368509e+09      a  42.44           28.28   \n",
       "2  2013-09-06 06:09:52  1.378466e+09      a  45.91           23.57   \n",
       "3  2004-04-13 04:20:10  1.081848e+09     aa  81.88           -7.28   \n",
       "4  2004-09-09 16:15:45  1.094765e+09     aa  82.33          -17.75   \n",
       "\n",
       "         SP500  sp500_p_change  Difference  DE Ratio  Trailing P/E  \\\n",
       "0  1254.050049            9.67      -11.15    54.360         16.18   \n",
       "1  1650.339966           14.43       13.85    44.120         13.75   \n",
       "2  1655.170044           20.88        2.69    56.390         17.74   \n",
       "3  1129.439941            3.93      -11.21     0.595         24.92   \n",
       "4  1118.380005           11.01      -28.76     0.561         20.88   \n",
       "\n",
       "       ...       Book Value Per Share     Cash Flow   Beta  Held by Insiders  \\\n",
       "0      ...                     11.360  1.420000e+10  1.550              0.25   \n",
       "1      ...                     15.410  1.320000e+09  1.660              0.23   \n",
       "2      ...                     14.460  1.260000e+09  1.810              0.23   \n",
       "3      ...                     14.078  2.530000e+09  1.808              1.00   \n",
       "4      ...                     14.049  1.780000e+09  1.676              1.00   \n",
       "\n",
       "   Held by Institutions  Shares Short (as of  Short Ratio  Short % of Float  \\\n",
       "0                 82.10            4360000.0        1.200              1.40   \n",
       "1                 83.20            4370000.0        1.200              1.30   \n",
       "2                 83.50            2780000.0        1.200              0.80   \n",
       "3                 79.36           12540000.0        2.497              1.46   \n",
       "4                 76.64            7780000.0        1.935              0.90   \n",
       "\n",
       "   Shares Short (prior         Status  \n",
       "0             5420000.0  underperform  \n",
       "1             3080000.0    outperform  \n",
       "2             3300000.0    outperform  \n",
       "3            12700000.0  underperform  \n",
       "4             7930000.0  underperform  \n",
       "\n",
       "[5 rows x 44 columns]"
      ]
     },
     "execution_count": 3,
     "metadata": {},
     "output_type": "execute_result"
    }
   ],
   "source": [
    "data= pd.DataFrame.from_csv(\"key_stats_acc_perf_NO_NA.csv\")\n",
    "data.head()\n"
   ]
  },
  {
   "cell_type": "raw",
   "metadata": {},
   "source": [
    "for i in data.columns:\n",
    "    print 'DATA:  {}   INFO:  {}'.format(data[i][0], i)\n"
   ]
  },
  {
   "cell_type": "raw",
   "metadata": {},
   "source": [
    "np.sort(np.unique(data['Date']))"
   ]
  },
  {
   "cell_type": "code",
   "execution_count": 4,
   "metadata": {
    "collapsed": false
   },
   "outputs": [
    {
     "data": {
      "text/html": [
       "<div>\n",
       "<table border=\"1\" class=\"dataframe\">\n",
       "  <thead>\n",
       "    <tr style=\"text-align: right;\">\n",
       "      <th></th>\n",
       "      <th>Unix</th>\n",
       "      <th>Price</th>\n",
       "      <th>stock_p_change</th>\n",
       "      <th>SP500</th>\n",
       "      <th>sp500_p_change</th>\n",
       "      <th>Difference</th>\n",
       "      <th>DE Ratio</th>\n",
       "      <th>Trailing P/E</th>\n",
       "      <th>Price/Sales</th>\n",
       "      <th>Price/Book</th>\n",
       "      <th>...</th>\n",
       "      <th>Current Ratio</th>\n",
       "      <th>Book Value Per Share</th>\n",
       "      <th>Cash Flow</th>\n",
       "      <th>Beta</th>\n",
       "      <th>Held by Insiders</th>\n",
       "      <th>Held by Institutions</th>\n",
       "      <th>Shares Short (as of</th>\n",
       "      <th>Short Ratio</th>\n",
       "      <th>Short % of Float</th>\n",
       "      <th>Shares Short (prior</th>\n",
       "    </tr>\n",
       "  </thead>\n",
       "  <tbody>\n",
       "    <tr>\n",
       "      <th>count</th>\n",
       "      <td>3.012000e+03</td>\n",
       "      <td>2966.000000</td>\n",
       "      <td>2948.000000</td>\n",
       "      <td>3012.000000</td>\n",
       "      <td>3012.000000</td>\n",
       "      <td>2948.000000</td>\n",
       "      <td>3012.000000</td>\n",
       "      <td>3012.000000</td>\n",
       "      <td>3012.000000</td>\n",
       "      <td>3012.000000</td>\n",
       "      <td>...</td>\n",
       "      <td>3012.000000</td>\n",
       "      <td>3012.000000</td>\n",
       "      <td>3.012000e+03</td>\n",
       "      <td>3012.000000</td>\n",
       "      <td>3012.000000</td>\n",
       "      <td>3012.000000</td>\n",
       "      <td>3.012000e+03</td>\n",
       "      <td>3012.000000</td>\n",
       "      <td>3012.000000</td>\n",
       "      <td>3.012000e+03</td>\n",
       "    </tr>\n",
       "    <tr>\n",
       "      <th>mean</th>\n",
       "      <td>1.250875e+09</td>\n",
       "      <td>42.498594</td>\n",
       "      <td>19.141014</td>\n",
       "      <td>1308.968654</td>\n",
       "      <td>12.915624</td>\n",
       "      <td>6.215397</td>\n",
       "      <td>48.100077</td>\n",
       "      <td>24.084303</td>\n",
       "      <td>2.426215</td>\n",
       "      <td>5.105697</td>\n",
       "      <td>...</td>\n",
       "      <td>2.028825</td>\n",
       "      <td>19.513079</td>\n",
       "      <td>1.004317e+10</td>\n",
       "      <td>1.040633</td>\n",
       "      <td>6.417971</td>\n",
       "      <td>75.007244</td>\n",
       "      <td>1.608617e+07</td>\n",
       "      <td>3.514980</td>\n",
       "      <td>3.632447</td>\n",
       "      <td>1.608493e+07</td>\n",
       "    </tr>\n",
       "    <tr>\n",
       "      <th>std</th>\n",
       "      <td>1.167623e+08</td>\n",
       "      <td>47.444454</td>\n",
       "      <td>32.241083</td>\n",
       "      <td>169.422892</td>\n",
       "      <td>6.893404</td>\n",
       "      <td>31.706214</td>\n",
       "      <td>83.323521</td>\n",
       "      <td>36.462119</td>\n",
       "      <td>2.541848</td>\n",
       "      <td>21.465480</td>\n",
       "      <td>...</td>\n",
       "      <td>2.748919</td>\n",
       "      <td>21.599722</td>\n",
       "      <td>2.792551e+10</td>\n",
       "      <td>0.893832</td>\n",
       "      <td>12.408416</td>\n",
       "      <td>18.481798</td>\n",
       "      <td>2.838628e+07</td>\n",
       "      <td>2.947799</td>\n",
       "      <td>4.750873</td>\n",
       "      <td>2.836231e+07</td>\n",
       "    </tr>\n",
       "    <tr>\n",
       "      <th>min</th>\n",
       "      <td>1.075297e+09</td>\n",
       "      <td>0.280000</td>\n",
       "      <td>-82.750000</td>\n",
       "      <td>1065.219971</td>\n",
       "      <td>-16.800000</td>\n",
       "      <td>-96.240000</td>\n",
       "      <td>0.000000</td>\n",
       "      <td>1.970000</td>\n",
       "      <td>0.080000</td>\n",
       "      <td>0.160000</td>\n",
       "      <td>...</td>\n",
       "      <td>0.220000</td>\n",
       "      <td>0.070000</td>\n",
       "      <td>7.850000e+02</td>\n",
       "      <td>0.002000</td>\n",
       "      <td>0.000000</td>\n",
       "      <td>0.270000</td>\n",
       "      <td>1.820000e+02</td>\n",
       "      <td>0.191000</td>\n",
       "      <td>0.280000</td>\n",
       "      <td>1.860000e+02</td>\n",
       "    </tr>\n",
       "    <tr>\n",
       "      <th>25%</th>\n",
       "      <td>1.107762e+09</td>\n",
       "      <td>21.315000</td>\n",
       "      <td>1.637500</td>\n",
       "      <td>1176.119995</td>\n",
       "      <td>7.200000</td>\n",
       "      <td>-11.405000</td>\n",
       "      <td>0.816500</td>\n",
       "      <td>13.980000</td>\n",
       "      <td>0.960000</td>\n",
       "      <td>1.970000</td>\n",
       "      <td>...</td>\n",
       "      <td>1.136750</td>\n",
       "      <td>9.020000</td>\n",
       "      <td>6.184050e+08</td>\n",
       "      <td>0.540000</td>\n",
       "      <td>0.270000</td>\n",
       "      <td>65.947500</td>\n",
       "      <td>4.000000e+06</td>\n",
       "      <td>1.800000</td>\n",
       "      <td>1.300000</td>\n",
       "      <td>3.970000e+06</td>\n",
       "    </tr>\n",
       "    <tr>\n",
       "      <th>50%</th>\n",
       "      <td>1.318133e+09</td>\n",
       "      <td>33.580000</td>\n",
       "      <td>14.855000</td>\n",
       "      <td>1261.150024</td>\n",
       "      <td>12.780000</td>\n",
       "      <td>2.625000</td>\n",
       "      <td>17.740000</td>\n",
       "      <td>18.455000</td>\n",
       "      <td>1.690000</td>\n",
       "      <td>3.010000</td>\n",
       "      <td>...</td>\n",
       "      <td>1.570000</td>\n",
       "      <td>14.312000</td>\n",
       "      <td>1.865000e+09</td>\n",
       "      <td>0.960000</td>\n",
       "      <td>1.000000</td>\n",
       "      <td>78.100000</td>\n",
       "      <td>7.670000e+06</td>\n",
       "      <td>2.700000</td>\n",
       "      <td>2.125000</td>\n",
       "      <td>7.770000e+06</td>\n",
       "    </tr>\n",
       "    <tr>\n",
       "      <th>75%</th>\n",
       "      <td>1.348228e+09</td>\n",
       "      <td>51.192500</td>\n",
       "      <td>32.387500</td>\n",
       "      <td>1409.150024</td>\n",
       "      <td>17.700000</td>\n",
       "      <td>18.505000</td>\n",
       "      <td>60.507500</td>\n",
       "      <td>24.520000</td>\n",
       "      <td>2.860000</td>\n",
       "      <td>4.712500</td>\n",
       "      <td>...</td>\n",
       "      <td>2.380000</td>\n",
       "      <td>24.103001</td>\n",
       "      <td>6.980000e+09</td>\n",
       "      <td>1.420000</td>\n",
       "      <td>6.880000</td>\n",
       "      <td>87.000000</td>\n",
       "      <td>1.620250e+07</td>\n",
       "      <td>4.118250</td>\n",
       "      <td>4.070000</td>\n",
       "      <td>1.589500e+07</td>\n",
       "    </tr>\n",
       "    <tr>\n",
       "      <th>max</th>\n",
       "      <td>1.378466e+09</td>\n",
       "      <td>737.500000</td>\n",
       "      <td>447.440000</td>\n",
       "      <td>1697.479980</td>\n",
       "      <td>32.380000</td>\n",
       "      <td>429.200000</td>\n",
       "      <td>987.070000</td>\n",
       "      <td>742.670000</td>\n",
       "      <td>25.990000</td>\n",
       "      <td>764.790000</td>\n",
       "      <td>...</td>\n",
       "      <td>128.360000</td>\n",
       "      <td>325.530000</td>\n",
       "      <td>3.573200e+11</td>\n",
       "      <td>35.900000</td>\n",
       "      <td>107.640000</td>\n",
       "      <td>295.600000</td>\n",
       "      <td>3.898200e+08</td>\n",
       "      <td>37.667000</td>\n",
       "      <td>44.900000</td>\n",
       "      <td>3.997900e+08</td>\n",
       "    </tr>\n",
       "  </tbody>\n",
       "</table>\n",
       "<p>8 rows × 41 columns</p>\n",
       "</div>"
      ],
      "text/plain": [
       "               Unix        Price  stock_p_change        SP500  sp500_p_change  \\\n",
       "count  3.012000e+03  2966.000000     2948.000000  3012.000000     3012.000000   \n",
       "mean   1.250875e+09    42.498594       19.141014  1308.968654       12.915624   \n",
       "std    1.167623e+08    47.444454       32.241083   169.422892        6.893404   \n",
       "min    1.075297e+09     0.280000      -82.750000  1065.219971      -16.800000   \n",
       "25%    1.107762e+09    21.315000        1.637500  1176.119995        7.200000   \n",
       "50%    1.318133e+09    33.580000       14.855000  1261.150024       12.780000   \n",
       "75%    1.348228e+09    51.192500       32.387500  1409.150024       17.700000   \n",
       "max    1.378466e+09   737.500000      447.440000  1697.479980       32.380000   \n",
       "\n",
       "        Difference     DE Ratio  Trailing P/E  Price/Sales   Price/Book  \\\n",
       "count  2948.000000  3012.000000   3012.000000  3012.000000  3012.000000   \n",
       "mean      6.215397    48.100077     24.084303     2.426215     5.105697   \n",
       "std      31.706214    83.323521     36.462119     2.541848    21.465480   \n",
       "min     -96.240000     0.000000      1.970000     0.080000     0.160000   \n",
       "25%     -11.405000     0.816500     13.980000     0.960000     1.970000   \n",
       "50%       2.625000    17.740000     18.455000     1.690000     3.010000   \n",
       "75%      18.505000    60.507500     24.520000     2.860000     4.712500   \n",
       "max     429.200000   987.070000    742.670000    25.990000   764.790000   \n",
       "\n",
       "               ...           Current Ratio  Book Value Per Share  \\\n",
       "count          ...             3012.000000           3012.000000   \n",
       "mean           ...                2.028825             19.513079   \n",
       "std            ...                2.748919             21.599722   \n",
       "min            ...                0.220000              0.070000   \n",
       "25%            ...                1.136750              9.020000   \n",
       "50%            ...                1.570000             14.312000   \n",
       "75%            ...                2.380000             24.103001   \n",
       "max            ...              128.360000            325.530000   \n",
       "\n",
       "          Cash Flow         Beta  Held by Insiders  Held by Institutions  \\\n",
       "count  3.012000e+03  3012.000000       3012.000000           3012.000000   \n",
       "mean   1.004317e+10     1.040633          6.417971             75.007244   \n",
       "std    2.792551e+10     0.893832         12.408416             18.481798   \n",
       "min    7.850000e+02     0.002000          0.000000              0.270000   \n",
       "25%    6.184050e+08     0.540000          0.270000             65.947500   \n",
       "50%    1.865000e+09     0.960000          1.000000             78.100000   \n",
       "75%    6.980000e+09     1.420000          6.880000             87.000000   \n",
       "max    3.573200e+11    35.900000        107.640000            295.600000   \n",
       "\n",
       "       Shares Short (as of  Short Ratio  Short % of Float  \\\n",
       "count         3.012000e+03  3012.000000       3012.000000   \n",
       "mean          1.608617e+07     3.514980          3.632447   \n",
       "std           2.838628e+07     2.947799          4.750873   \n",
       "min           1.820000e+02     0.191000          0.280000   \n",
       "25%           4.000000e+06     1.800000          1.300000   \n",
       "50%           7.670000e+06     2.700000          2.125000   \n",
       "75%           1.620250e+07     4.118250          4.070000   \n",
       "max           3.898200e+08    37.667000         44.900000   \n",
       "\n",
       "       Shares Short (prior   \n",
       "count          3.012000e+03  \n",
       "mean           1.608493e+07  \n",
       "std            2.836231e+07  \n",
       "min            1.860000e+02  \n",
       "25%            3.970000e+06  \n",
       "50%            7.770000e+06  \n",
       "75%            1.589500e+07  \n",
       "max            3.997900e+08  \n",
       "\n",
       "[8 rows x 41 columns]"
      ]
     },
     "execution_count": 4,
     "metadata": {},
     "output_type": "execute_result"
    }
   ],
   "source": [
    "data.describe()"
   ]
  },
  {
   "cell_type": "markdown",
   "metadata": {},
   "source": [
    "Como podemos ver no todas las variables estan en la misma escala y hay algunas como el caso de Unix (un formato de fecha) que no nos dan información reelevante para aprendizaje de Maquina. Debemos eliminar estas variables e identificar que tan correlacionadas se encuentran el resto de las variables.\n",
    "Primero estandarizaremos nuestros datos para poder efectuar un análisis descriptivo más eficiente:\n"
   ]
  },
  {
   "cell_type": "code",
   "execution_count": 5,
   "metadata": {
    "collapsed": false
   },
   "outputs": [
    {
     "name": "stdout",
     "output_type": "stream",
     "text": [
      "Variable no numerica\n",
      "Variable no numerica\n",
      "Variable no numerica\n"
     ]
    }
   ],
   "source": [
    "for i in data.columns:\n",
    "    if type(data[i][1]) ==str:\n",
    "        print('Variable no numerica')\n",
    "    else:\n",
    "        media=np.mean(data[i])\n",
    "        std=np.std(data[i])\n",
    "        data_std=( data[i] - media)/ std\n",
    "        data[i]=data_std"
   ]
  },
  {
   "cell_type": "markdown",
   "metadata": {},
   "source": [
    "Tambien eliminaremos las variables que sirven para construir la variable categorica y que no pdriamos conocer a priori. \n",
    "Un ejemplo de estos caso es el cambio en el indice de S&P500, podemos conocer el valor inicial y solo al final del día podriamos conocer el cambio, sin em,bargo, en la vida cotidiana no podríamos esperar al final del día para asignarle un valor a esta variable ya que el mercado estaría cerrado y el objetivo de nuestro mdelo es conocer las acciones que nos den buenos rendimientos o que podrán superar al mercado.\n"
   ]
  },
  {
   "cell_type": "code",
   "execution_count": 7,
   "metadata": {
    "collapsed": false
   },
   "outputs": [
    {
     "ename": "KeyError",
     "evalue": "'Unix'",
     "output_type": "error",
     "traceback": [
      "\u001b[0;31m---------------------------------------------------------------------------\u001b[0m",
      "\u001b[0;31mKeyError\u001b[0m                                  Traceback (most recent call last)",
      "\u001b[0;32m<ipython-input-7-f4ad41238bce>\u001b[0m in \u001b[0;36m<module>\u001b[0;34m()\u001b[0m\n\u001b[0;32m----> 1\u001b[0;31m \u001b[0;32mdel\u001b[0m \u001b[0mdata\u001b[0m\u001b[0;34m[\u001b[0m\u001b[0;34m'Unix'\u001b[0m\u001b[0;34m]\u001b[0m\u001b[0;34m\u001b[0m\u001b[0m\n\u001b[0m\u001b[1;32m      2\u001b[0m \u001b[0;32mdel\u001b[0m \u001b[0mdata\u001b[0m\u001b[0;34m[\u001b[0m\u001b[0;34m'stock_p_change'\u001b[0m\u001b[0;34m]\u001b[0m\u001b[0;34m\u001b[0m\u001b[0m\n\u001b[1;32m      3\u001b[0m \u001b[0;32mdel\u001b[0m \u001b[0mdata\u001b[0m\u001b[0;34m[\u001b[0m\u001b[0;34m'sp500_p_change'\u001b[0m\u001b[0;34m]\u001b[0m\u001b[0;34m\u001b[0m\u001b[0m\n\u001b[1;32m      4\u001b[0m \u001b[0mdata\u001b[0m\u001b[0;34m.\u001b[0m\u001b[0mdescribe\u001b[0m\u001b[0;34m(\u001b[0m\u001b[0;34m)\u001b[0m\u001b[0;34m\u001b[0m\u001b[0m\n",
      "\u001b[0;32m/Users/Coronado/anaconda/lib/python2.7/site-packages/pandas/core/generic.pyc\u001b[0m in \u001b[0;36m__delitem__\u001b[0;34m(self, key)\u001b[0m\n\u001b[1;32m   1640\u001b[0m             \u001b[0;31m# there was no match, this call should raise the appropriate\u001b[0m\u001b[0;34m\u001b[0m\u001b[0;34m\u001b[0m\u001b[0m\n\u001b[1;32m   1641\u001b[0m             \u001b[0;31m# exception:\u001b[0m\u001b[0;34m\u001b[0m\u001b[0;34m\u001b[0m\u001b[0m\n\u001b[0;32m-> 1642\u001b[0;31m             \u001b[0mself\u001b[0m\u001b[0;34m.\u001b[0m\u001b[0m_data\u001b[0m\u001b[0;34m.\u001b[0m\u001b[0mdelete\u001b[0m\u001b[0;34m(\u001b[0m\u001b[0mkey\u001b[0m\u001b[0;34m)\u001b[0m\u001b[0;34m\u001b[0m\u001b[0m\n\u001b[0m\u001b[1;32m   1643\u001b[0m \u001b[0;34m\u001b[0m\u001b[0m\n\u001b[1;32m   1644\u001b[0m         \u001b[0;31m# delete from the caches\u001b[0m\u001b[0;34m\u001b[0m\u001b[0;34m\u001b[0m\u001b[0m\n",
      "\u001b[0;32m/Users/Coronado/anaconda/lib/python2.7/site-packages/pandas/core/internals.pyc\u001b[0m in \u001b[0;36mdelete\u001b[0;34m(self, item)\u001b[0m\n\u001b[1;32m   3598\u001b[0m         \u001b[0mDelete\u001b[0m \u001b[0mselected\u001b[0m \u001b[0mitem\u001b[0m \u001b[0;34m(\u001b[0m\u001b[0mitems\u001b[0m \u001b[0;32mif\u001b[0m \u001b[0mnon\u001b[0m\u001b[0;34m-\u001b[0m\u001b[0munique\u001b[0m\u001b[0;34m)\u001b[0m \u001b[0;32min\u001b[0m\u001b[0;34m-\u001b[0m\u001b[0mplace\u001b[0m\u001b[0;34m.\u001b[0m\u001b[0;34m\u001b[0m\u001b[0m\n\u001b[1;32m   3599\u001b[0m         \"\"\"\n\u001b[0;32m-> 3600\u001b[0;31m         \u001b[0mindexer\u001b[0m \u001b[0;34m=\u001b[0m \u001b[0mself\u001b[0m\u001b[0;34m.\u001b[0m\u001b[0mitems\u001b[0m\u001b[0;34m.\u001b[0m\u001b[0mget_loc\u001b[0m\u001b[0;34m(\u001b[0m\u001b[0mitem\u001b[0m\u001b[0;34m)\u001b[0m\u001b[0;34m\u001b[0m\u001b[0m\n\u001b[0m\u001b[1;32m   3601\u001b[0m \u001b[0;34m\u001b[0m\u001b[0m\n\u001b[1;32m   3602\u001b[0m         \u001b[0mis_deleted\u001b[0m \u001b[0;34m=\u001b[0m \u001b[0mnp\u001b[0m\u001b[0;34m.\u001b[0m\u001b[0mzeros\u001b[0m\u001b[0;34m(\u001b[0m\u001b[0mself\u001b[0m\u001b[0;34m.\u001b[0m\u001b[0mshape\u001b[0m\u001b[0;34m[\u001b[0m\u001b[0;36m0\u001b[0m\u001b[0;34m]\u001b[0m\u001b[0;34m,\u001b[0m \u001b[0mdtype\u001b[0m\u001b[0;34m=\u001b[0m\u001b[0mnp\u001b[0m\u001b[0;34m.\u001b[0m\u001b[0mbool_\u001b[0m\u001b[0;34m)\u001b[0m\u001b[0;34m\u001b[0m\u001b[0m\n",
      "\u001b[0;32m/Users/Coronado/anaconda/lib/python2.7/site-packages/pandas/indexes/base.pyc\u001b[0m in \u001b[0;36mget_loc\u001b[0;34m(self, key, method, tolerance)\u001b[0m\n\u001b[1;32m   2134\u001b[0m                 \u001b[0;32mreturn\u001b[0m \u001b[0mself\u001b[0m\u001b[0;34m.\u001b[0m\u001b[0m_engine\u001b[0m\u001b[0;34m.\u001b[0m\u001b[0mget_loc\u001b[0m\u001b[0;34m(\u001b[0m\u001b[0mkey\u001b[0m\u001b[0;34m)\u001b[0m\u001b[0;34m\u001b[0m\u001b[0m\n\u001b[1;32m   2135\u001b[0m             \u001b[0;32mexcept\u001b[0m \u001b[0mKeyError\u001b[0m\u001b[0;34m:\u001b[0m\u001b[0;34m\u001b[0m\u001b[0m\n\u001b[0;32m-> 2136\u001b[0;31m                 \u001b[0;32mreturn\u001b[0m \u001b[0mself\u001b[0m\u001b[0;34m.\u001b[0m\u001b[0m_engine\u001b[0m\u001b[0;34m.\u001b[0m\u001b[0mget_loc\u001b[0m\u001b[0;34m(\u001b[0m\u001b[0mself\u001b[0m\u001b[0;34m.\u001b[0m\u001b[0m_maybe_cast_indexer\u001b[0m\u001b[0;34m(\u001b[0m\u001b[0mkey\u001b[0m\u001b[0;34m)\u001b[0m\u001b[0;34m)\u001b[0m\u001b[0;34m\u001b[0m\u001b[0m\n\u001b[0m\u001b[1;32m   2137\u001b[0m \u001b[0;34m\u001b[0m\u001b[0m\n\u001b[1;32m   2138\u001b[0m         \u001b[0mindexer\u001b[0m \u001b[0;34m=\u001b[0m \u001b[0mself\u001b[0m\u001b[0;34m.\u001b[0m\u001b[0mget_indexer\u001b[0m\u001b[0;34m(\u001b[0m\u001b[0;34m[\u001b[0m\u001b[0mkey\u001b[0m\u001b[0;34m]\u001b[0m\u001b[0;34m,\u001b[0m \u001b[0mmethod\u001b[0m\u001b[0;34m=\u001b[0m\u001b[0mmethod\u001b[0m\u001b[0;34m,\u001b[0m \u001b[0mtolerance\u001b[0m\u001b[0;34m=\u001b[0m\u001b[0mtolerance\u001b[0m\u001b[0;34m)\u001b[0m\u001b[0;34m\u001b[0m\u001b[0m\n",
      "\u001b[0;32mpandas/index.pyx\u001b[0m in \u001b[0;36mpandas.index.IndexEngine.get_loc (pandas/index.c:4443)\u001b[0;34m()\u001b[0m\n",
      "\u001b[0;32mpandas/index.pyx\u001b[0m in \u001b[0;36mpandas.index.IndexEngine.get_loc (pandas/index.c:4289)\u001b[0;34m()\u001b[0m\n",
      "\u001b[0;32mpandas/src/hashtable_class_helper.pxi\u001b[0m in \u001b[0;36mpandas.hashtable.PyObjectHashTable.get_item (pandas/hashtable.c:13733)\u001b[0;34m()\u001b[0m\n",
      "\u001b[0;32mpandas/src/hashtable_class_helper.pxi\u001b[0m in \u001b[0;36mpandas.hashtable.PyObjectHashTable.get_item (pandas/hashtable.c:13687)\u001b[0;34m()\u001b[0m\n",
      "\u001b[0;31mKeyError\u001b[0m: 'Unix'"
     ]
    }
   ],
   "source": [
    "del data['Unix'] \n",
    "del data['stock_p_change']\n",
    "del data['sp500_p_change']\n",
    "data.describe()\n"
   ]
  },
  {
   "cell_type": "raw",
   "metadata": {
    "collapsed": false,
    "scrolled": true
   },
   "source": [
    "from scipy.stats import gaussian_kde\n",
    "\n",
    "lista=list()\n",
    "for i  in data.columns[:4]:\n",
    "    lista.append(i)\n",
    "    \n",
    "    if type(data[i][1])==str :\n",
    "        print 'Variable No numerica'\n",
    "    else:\n",
    "        for j in data.columns:\n",
    "            if j in lista:\n",
    "                print 'Variables ya graficadas'\n",
    "            else:\n",
    "                if type(data[j][1])==str:\n",
    "                        print 'Variable J no numérica'\n",
    "                else:\n",
    "                    print('Graficando {}  VS {} '.format(i,j))\n",
    "                    # Generate fake data\n",
    "                    x = data[i]\n",
    "                    #X= X[np.logical_not(np.isnan(X))]\n",
    "                    y = data[j]\n",
    "                    X=pd.DataFrame( np.transpose([data[i], data[j] ]) )\n",
    "                    \n",
    "                    X=X.dropna(axis=0)\n",
    "                    #print(X)\n",
    "                    x=X[0]\n",
    "                    y=X[1]\n",
    "                    \n",
    "                    # Calculate the point density\n",
    "                    xy = np.vstack([x,y])\n",
    "                    \n",
    "                    z = gaussian_kde(xy)(xy)\n",
    "\n",
    "                    fig, ax = plt.subplots()\n",
    "                    ax.scatter(x, y, c=z, s=100, edgecolor='')\n",
    "                    ax.set_xlabel(i)\n",
    "                    ax.set_ylabel(j)\n",
    "                    plt.show()\n",
    "            \n",
    "        \n",
    "        \n",
    "        \n"
   ]
  },
  {
   "cell_type": "code",
   "execution_count": 8,
   "metadata": {
    "collapsed": true
   },
   "outputs": [],
   "source": [
    "lista=['Short % of Float', 'Earnings Growth', 'Market Cap', 'Enterprise Value', 'PEG Ratio', 'Price', 'Forward P/E', 'Net Income Avl to Common ', 'Trailing P/E', 'Operating Margin', 'Gross Profit', 'Profit Margin', 'Held by Institutions', 'Held by Insiders', 'Short Ratio', 'Revenue', 'Enterprise Value/Revenue', 'Revenue Per Share', 'Cash Flow', 'Price/Sales', 'Return on Assets', 'Revenue Growth', 'SP500', 'Shares Short (prior ', 'Shares Short (as of', 'Total Cash', 'Diluted EPS', 'DE Ratio', 'Total Debt', 'Current Ratio', 'Total Cash Per Share', 'Enterprise Value/EBITDA', 'EBITDA', 'Beta', 'Price/Book', 'Book Value Per Share', 'Return on Equity']"
   ]
  },
  {
   "cell_type": "code",
   "execution_count": 11,
   "metadata": {
    "collapsed": false
   },
   "outputs": [
    {
     "name": "stdout",
     "output_type": "stream",
     "text": [
      "Earnings Growth\n",
      "Graficando Earnings Growth  VS Difference \n"
     ]
    },
    {
     "data": {
      "image/png": "[encoded data removed]",
      "text/plain": [
       "<matplotlib.figure.Figure at 0x11d8c5190>"
      ]
     },
     "metadata": {},
     "output_type": "display_data"
    },
    {
     "name": "stdout",
     "output_type": "stream",
     "text": [
      "Market Cap\n",
      "Graficando Market Cap  VS Difference \n"
     ]
    },
    {
     "data": {
      "image/png": "[encoded data removed]",
      "text/plain": [
       "<matplotlib.figure.Figure at 0x11ac78210>"
      ]
     },
     "metadata": {},
     "output_type": "display_data"
    },
    {
     "name": "stdout",
     "output_type": "stream",
     "text": [
      "Enterprise Value\n",
      "Graficando Enterprise Value  VS Difference \n"
     ]
    },
    {
     "data": {
      "image/png": "[encoded data removed]",
      "text/plain": [
       "<matplotlib.figure.Figure at 0x11dbfd450>"
      ]
     },
     "metadata": {},
     "output_type": "display_data"
    },
    {
     "name": "stdout",
     "output_type": "stream",
     "text": [
      "PEG Ratio\n",
      "Graficando PEG Ratio  VS Difference \n"
     ]
    },
    {
     "data": {
      "image/png": "[encoded data removed]",
      "text/plain": [
       "<matplotlib.figure.Figure at 0x11ddab750>"
      ]
     },
     "metadata": {},
     "output_type": "display_data"
    },
    {
     "name": "stdout",
     "output_type": "stream",
     "text": [
      "Price\n",
      "Graficando Price  VS Difference \n"
     ]
    },
    {
     "data": {
      "image/png": "[encoded data removed]",
      "text/plain": [
       "<matplotlib.figure.Figure at 0x11d8afcd0>"
      ]
     },
     "metadata": {},
     "output_type": "display_data"
    },
    {
     "name": "stdout",
     "output_type": "stream",
     "text": [
      "Forward P/E\n",
      "Graficando Forward P/E  VS Difference \n",
      "Net Income Avl to Common \n",
      "Graficando Net Income Avl to Common   VS Difference \n"
     ]
    },
    {
     "data": {
      "image/png": "[encoded data removed]",
      "text/plain": [
       "<matplotlib.figure.Figure at 0x11defdd50>"
      ]
     },
     "metadata": {},
     "output_type": "display_data"
    },
    {
     "data": {
      "image/png": "[encoded data removed]",
      "text/plain": [
       "<matplotlib.figure.Figure at 0x11dbdbbd0>"
      ]
     },
     "metadata": {},
     "output_type": "display_data"
    },
    {
     "name": "stdout",
     "output_type": "stream",
     "text": [
      "Trailing P/E\n",
      "Graficando Trailing P/E  VS Difference \n"
     ]
    },
    {
     "ename": "IOError",
     "evalue": "[Errno 2] No such file or directory: 'Grafica_top10_Trailing P/E.png'",
     "output_type": "error",
     "traceback": [
      "\u001b[0;31m---------------------------------------------------------------------------\u001b[0m",
      "\u001b[0;31mIOError\u001b[0m                                   Traceback (most recent call last)",
      "\u001b[0;32m<ipython-input-11-29ae1fffa897>\u001b[0m in \u001b[0;36m<module>\u001b[0;34m()\u001b[0m\n\u001b[1;32m     32\u001b[0m                         \u001b[0mplt\u001b[0m\u001b[0;34m.\u001b[0m\u001b[0msavefig\u001b[0m\u001b[0;34m(\u001b[0m\u001b[0;34m'Grafica_top10_ForwardPE.png'\u001b[0m\u001b[0;34m)\u001b[0m\u001b[0;34m\u001b[0m\u001b[0m\n\u001b[1;32m     33\u001b[0m                     \u001b[0;32melse\u001b[0m\u001b[0;34m:\u001b[0m\u001b[0;34m\u001b[0m\u001b[0m\n\u001b[0;32m---> 34\u001b[0;31m                         \u001b[0mplt\u001b[0m\u001b[0;34m.\u001b[0m\u001b[0msavefig\u001b[0m\u001b[0;34m(\u001b[0m\u001b[0;34m'Grafica_top10_'\u001b[0m\u001b[0;34m+\u001b[0m \u001b[0mi\u001b[0m \u001b[0;34m+\u001b[0m\u001b[0;34m'.png'\u001b[0m\u001b[0;34m)\u001b[0m\u001b[0;34m\u001b[0m\u001b[0m\n\u001b[0m\u001b[1;32m     35\u001b[0m                         \u001b[0mplt\u001b[0m\u001b[0;34m.\u001b[0m\u001b[0mshow\u001b[0m\u001b[0;34m(\u001b[0m\u001b[0;34m)\u001b[0m\u001b[0;34m\u001b[0m\u001b[0m\n\u001b[1;32m     36\u001b[0m \u001b[0;34m\u001b[0m\u001b[0m\n",
      "\u001b[0;32m/Users/Coronado/anaconda/lib/python2.7/site-packages/matplotlib/pyplot.pyc\u001b[0m in \u001b[0;36msavefig\u001b[0;34m(*args, **kwargs)\u001b[0m\n\u001b[1;32m    686\u001b[0m \u001b[0;32mdef\u001b[0m \u001b[0msavefig\u001b[0m\u001b[0;34m(\u001b[0m\u001b[0;34m*\u001b[0m\u001b[0margs\u001b[0m\u001b[0;34m,\u001b[0m \u001b[0;34m**\u001b[0m\u001b[0mkwargs\u001b[0m\u001b[0;34m)\u001b[0m\u001b[0;34m:\u001b[0m\u001b[0;34m\u001b[0m\u001b[0m\n\u001b[1;32m    687\u001b[0m     \u001b[0mfig\u001b[0m \u001b[0;34m=\u001b[0m \u001b[0mgcf\u001b[0m\u001b[0;34m(\u001b[0m\u001b[0;34m)\u001b[0m\u001b[0;34m\u001b[0m\u001b[0m\n\u001b[0;32m--> 688\u001b[0;31m     \u001b[0mres\u001b[0m \u001b[0;34m=\u001b[0m \u001b[0mfig\u001b[0m\u001b[0;34m.\u001b[0m\u001b[0msavefig\u001b[0m\u001b[0;34m(\u001b[0m\u001b[0;34m*\u001b[0m\u001b[0margs\u001b[0m\u001b[0;34m,\u001b[0m \u001b[0;34m**\u001b[0m\u001b[0mkwargs\u001b[0m\u001b[0;34m)\u001b[0m\u001b[0;34m\u001b[0m\u001b[0m\n\u001b[0m\u001b[1;32m    689\u001b[0m     \u001b[0mfig\u001b[0m\u001b[0;34m.\u001b[0m\u001b[0mcanvas\u001b[0m\u001b[0;34m.\u001b[0m\u001b[0mdraw_idle\u001b[0m\u001b[0;34m(\u001b[0m\u001b[0;34m)\u001b[0m   \u001b[0;31m# need this if 'transparent=True' to reset colors\u001b[0m\u001b[0;34m\u001b[0m\u001b[0m\n\u001b[1;32m    690\u001b[0m     \u001b[0;32mreturn\u001b[0m \u001b[0mres\u001b[0m\u001b[0;34m\u001b[0m\u001b[0m\n",
      "\u001b[0;32m/Users/Coronado/anaconda/lib/python2.7/site-packages/matplotlib/figure.pyc\u001b[0m in \u001b[0;36msavefig\u001b[0;34m(self, *args, **kwargs)\u001b[0m\n\u001b[1;32m   1563\u001b[0m             \u001b[0mself\u001b[0m\u001b[0;34m.\u001b[0m\u001b[0mset_frameon\u001b[0m\u001b[0;34m(\u001b[0m\u001b[0mframeon\u001b[0m\u001b[0;34m)\u001b[0m\u001b[0;34m\u001b[0m\u001b[0m\n\u001b[1;32m   1564\u001b[0m \u001b[0;34m\u001b[0m\u001b[0m\n\u001b[0;32m-> 1565\u001b[0;31m         \u001b[0mself\u001b[0m\u001b[0;34m.\u001b[0m\u001b[0mcanvas\u001b[0m\u001b[0;34m.\u001b[0m\u001b[0mprint_figure\u001b[0m\u001b[0;34m(\u001b[0m\u001b[0;34m*\u001b[0m\u001b[0margs\u001b[0m\u001b[0;34m,\u001b[0m \u001b[0;34m**\u001b[0m\u001b[0mkwargs\u001b[0m\u001b[0;34m)\u001b[0m\u001b[0;34m\u001b[0m\u001b[0m\n\u001b[0m\u001b[1;32m   1566\u001b[0m \u001b[0;34m\u001b[0m\u001b[0m\n\u001b[1;32m   1567\u001b[0m         \u001b[0;32mif\u001b[0m \u001b[0mframeon\u001b[0m\u001b[0;34m:\u001b[0m\u001b[0;34m\u001b[0m\u001b[0m\n",
      "\u001b[0;32m/Users/Coronado/anaconda/lib/python2.7/site-packages/matplotlib/backend_bases.pyc\u001b[0m in \u001b[0;36mprint_figure\u001b[0;34m(self, filename, dpi, facecolor, edgecolor, orientation, format, **kwargs)\u001b[0m\n\u001b[1;32m   2230\u001b[0m                 \u001b[0morientation\u001b[0m\u001b[0;34m=\u001b[0m\u001b[0morientation\u001b[0m\u001b[0;34m,\u001b[0m\u001b[0;34m\u001b[0m\u001b[0m\n\u001b[1;32m   2231\u001b[0m                 \u001b[0mbbox_inches_restore\u001b[0m\u001b[0;34m=\u001b[0m\u001b[0m_bbox_inches_restore\u001b[0m\u001b[0;34m,\u001b[0m\u001b[0;34m\u001b[0m\u001b[0m\n\u001b[0;32m-> 2232\u001b[0;31m                 **kwargs)\n\u001b[0m\u001b[1;32m   2233\u001b[0m         \u001b[0;32mfinally\u001b[0m\u001b[0;34m:\u001b[0m\u001b[0;34m\u001b[0m\u001b[0m\n\u001b[1;32m   2234\u001b[0m             \u001b[0;32mif\u001b[0m \u001b[0mbbox_inches\u001b[0m \u001b[0;32mand\u001b[0m \u001b[0mrestore_bbox\u001b[0m\u001b[0;34m:\u001b[0m\u001b[0;34m\u001b[0m\u001b[0m\n",
      "\u001b[0;32m/Users/Coronado/anaconda/lib/python2.7/site-packages/matplotlib/backends/backend_agg.pyc\u001b[0m in \u001b[0;36mprint_png\u001b[0;34m(self, filename_or_obj, *args, **kwargs)\u001b[0m\n\u001b[1;32m    530\u001b[0m         \u001b[0mrenderer\u001b[0m\u001b[0;34m.\u001b[0m\u001b[0mdpi\u001b[0m \u001b[0;34m=\u001b[0m \u001b[0mself\u001b[0m\u001b[0;34m.\u001b[0m\u001b[0mfigure\u001b[0m\u001b[0;34m.\u001b[0m\u001b[0mdpi\u001b[0m\u001b[0;34m\u001b[0m\u001b[0m\n\u001b[1;32m    531\u001b[0m         \u001b[0;32mif\u001b[0m \u001b[0mis_string_like\u001b[0m\u001b[0;34m(\u001b[0m\u001b[0mfilename_or_obj\u001b[0m\u001b[0;34m)\u001b[0m\u001b[0;34m:\u001b[0m\u001b[0;34m\u001b[0m\u001b[0m\n\u001b[0;32m--> 532\u001b[0;31m             \u001b[0mfilename_or_obj\u001b[0m \u001b[0;34m=\u001b[0m \u001b[0mopen\u001b[0m\u001b[0;34m(\u001b[0m\u001b[0mfilename_or_obj\u001b[0m\u001b[0;34m,\u001b[0m \u001b[0;34m'wb'\u001b[0m\u001b[0;34m)\u001b[0m\u001b[0;34m\u001b[0m\u001b[0m\n\u001b[0m\u001b[1;32m    533\u001b[0m             \u001b[0mclose\u001b[0m \u001b[0;34m=\u001b[0m \u001b[0mTrue\u001b[0m\u001b[0;34m\u001b[0m\u001b[0m\n\u001b[1;32m    534\u001b[0m         \u001b[0;32melse\u001b[0m\u001b[0;34m:\u001b[0m\u001b[0;34m\u001b[0m\u001b[0m\n",
      "\u001b[0;31mIOError\u001b[0m: [Errno 2] No such file or directory: 'Grafica_top10_Trailing P/E.png'"
     ]
    },
    {
     "data": {
      "image/png": "[encoded data removed]",
      "text/plain": [
       "<matplotlib.figure.Figure at 0x11e0443d0>"
      ]
     },
     "metadata": {},
     "output_type": "display_data"
    }
   ],
   "source": [
    "from scipy.stats import gaussian_kde\n",
    "\n",
    "for i in lista[1:10]:\n",
    "    lista.append(i)\n",
    "    print(i)\n",
    "    if type(data[i][1])==str :\n",
    "        print 'Variable No numerica'\n",
    "    else:\n",
    "        \n",
    "                    print('Graficando {}  VS {} '.format(i,'Difference'))\n",
    "                    # Generate fake data\n",
    "                    x = data[i]\n",
    "                    #X= X[np.logical_not(np.isnan(X))]\n",
    "                    y = data['Difference']\n",
    "                    X=pd.DataFrame( np.transpose([data[i], data['Difference'] ]) )\n",
    "                    \n",
    "                    X=X.dropna(axis=0)\n",
    "                    #print(X)\n",
    "                    x=X[0]\n",
    "                    y=X[1]\n",
    "                    \n",
    "                    # Calculate the point density\n",
    "                    xy = np.vstack([x,y])\n",
    "                    \n",
    "                    z = gaussian_kde(xy)(xy)\n",
    "\n",
    "                    fig, ax = plt.subplots()\n",
    "                    ax.scatter(x, y, c=z, s=100, edgecolor='')\n",
    "                    ax.set_xlabel(i)\n",
    "                    ax.set_ylabel('Difference')\n",
    "                    if i == 'Forward P/E':\n",
    "                        plt.savefig('Grafica_top10_ForwardPE.png')\n",
    "                    elif i =='Trailing P/E':\n",
    "                        plt.savefig('Grafica_top10_TrailingPE.png')\n",
    "                    else:\n",
    "                        plt.savefig('Grafica_top10_'+ i +'.png')\n",
    "                        plt.show()\n",
    "            "
   ]
  },
  {
   "cell_type": "code",
   "execution_count": null,
   "metadata": {
    "collapsed": true
   },
   "outputs": [],
   "source": [
    "print 'Grafica1_'+ i +'.png'"
   ]
  },
  {
   "cell_type": "markdown",
   "metadata": {},
   "source": [
    "En estas graficas podemos ver la distribución de los datos para cada una de las variables. Los puntos azules indican que hay pocas concentraciones en los extremos pientras que las zonas amarillas y rojas nos dicen que hay una gran concentración de valores en esos conjuntos de datos.\n",
    "Podmeos Comprar la correlación dentre variables independientes y tambien la correlación de las variables independientes con las dependientes. Con esta información podemos concluir:\n",
    "* Difference esta positiva y significativamente correlacionada con Short % of Float. \n",
    "* Difference esta positiva y significativamente correlacionada con Earnings Growth.\n",
    "* Difference esta positiva y significativamente correlacionada con Market Cap.\n",
    "* Hay una relación muy alta entre el precio y el indice S&P500.\n",
    "Para comprabar estas hipotesis pasaremos a la selección y filtrado de variables"
   ]
  },
  {
   "cell_type": "markdown",
   "metadata": {},
   "source": []
  },
  {
   "cell_type": "code",
   "execution_count": 241,
   "metadata": {
    "collapsed": false
   },
   "outputs": [
    {
     "name": "stdout",
     "output_type": "stream",
     "text": [
      "3012\n",
      "2948\n"
     ]
    }
   ],
   "source": [
    "print len(data)\n",
    "data=data.dropna(axis=0)\n",
    "print len(data)"
   ]
  },
  {
   "cell_type": "markdown",
   "metadata": {},
   "source": [
    "#### FCB Filtering\n",
    "Ya que tenemos los datos estandarizados nos gustaría seleccionar solo aquellas variables que aporten mucha información a nuestra variable categorica. Para determinar que variable aportan información utilizaremos la correlación de las variables independientes con las variable de interes. En este caso utilizaremos la variable Difference y la compraremos con las variables independientes. Una vez que tengamos las variables independientes que aportan mayor infromación las ordenaremos de mayor a menor y eliminaremos aquellas variables independientes que esten muy correlacionadas con las variables de mayor valor.\n",
    "Este filtrado se llama FCB Filtering y nos tiene la ventaja de mantener la integridad de la infromación y descartar aquellos valores que solo generan ruido en nuestro modelo:\n"
   ]
  },
  {
   "cell_type": "code",
   "execution_count": 243,
   "metadata": {
    "collapsed": false
   },
   "outputs": [
    {
     "name": "stdout",
     "output_type": "stream",
     "text": [
      "valores no numericos\n",
      "valores no numericos\n",
      "valores no numericos\n",
      "ORDEN DE CORERELACION CON Y: ['Short % of Float', 'Earnings Growth', 'Market Cap', 'Enterprise Value', 'PEG Ratio', 'Price', 'Forward P/E', 'Net Income Avl to Common ', 'Trailing P/E', 'Operating Margin', 'Gross Profit', 'Profit Margin', 'Held by Institutions', 'Held by Insiders', 'Short Ratio', 'Revenue', 'Enterprise Value/Revenue', 'Revenue Per Share', 'Cash Flow', 'Price/Sales', 'Return on Assets', 'Revenue Growth', 'SP500', 'Shares Short (prior ', 'Shares Short (as of', 'Total Cash', 'Diluted EPS', 'DE Ratio', 'Total Debt', 'Current Ratio', 'Total Cash Per Share', 'Enterprise Value/EBITDA', 'EBITDA', 'Beta', 'Price/Book', 'Book Value Per Share', 'Return on Equity']\n",
      "VARIABLES A ELIMINAR: ['Enterprise Value', 'Net Income Avl to Common ', 'Gross Profit', 'Gross Profit', 'Enterprise Value/Revenue', 'Price/Sales', 'Price/Sales', 'Shares Short (as of', 'EBITDA']\n",
      "Eliminando:  Net Income Avl to Common \n",
      "Eliminando:  Price/Sales\n",
      "Eliminando:  Gross Profit\n",
      "Eliminando:  Shares Short (as of\n",
      "Eliminando:  EBITDA\n",
      "Eliminando:  Enterprise Value\n",
      "Eliminando:  Enterprise Value/Revenue\n"
     ]
    }
   ],
   "source": [
    "\n",
    "       \n",
    "def FCB_filtering(data, y, parametro):\n",
    "    listaEliminar=list()\n",
    "    corrY=list()\n",
    "    names=list()\n",
    "    #Primero definimos el orden utilizando la correlación con y \n",
    "    for i in data :\n",
    "\n",
    "        if isinstance(data[i][1], str) :\n",
    "            print('valores no numericos')\n",
    "        else:\n",
    "            #print('CORRELACION de {}: {}'.format(i, np.abs(np.corrcoef( data[i] , y ))[1,0] ))\n",
    "            corrY.append(  np.abs(np.corrcoef( data[i] , y )[1,0] ) )\n",
    "            names.append(i)    \n",
    "\n",
    "    order= [names for (corrY,names) in sorted(zip(corrY,names) ,  reverse=True )]\n",
    "    print 'ORDEN DE CORERELACION CON Y: {}'.format(order )\n",
    "    \n",
    "    lista2=list()\n",
    "    for i in order:\n",
    "        lista2.append(i)\n",
    "        if isinstance(data[i][1], str) :\n",
    "                print('datos no numericos')\n",
    "        else:\n",
    "            for j in order:\n",
    "                if( data[j].name in lista2 or type(data[j][1])==str ):\n",
    "                    #print('datos no numericos o en lista')\n",
    "                    pass\n",
    "                    \n",
    "                else:\n",
    "                    if data[i].name==data[j].name:\n",
    "                        print('variables iguales')\n",
    "                    else:\n",
    "                        #print'CORRELACION CON {}: {}'.format(j, np.abs(np.corrcoef( data[i] , data[j])[1,0] ))\n",
    "                                \n",
    "                        if( np.abs(np.corrcoef( data[i] , data[j])[1,0] ) > parametro):\n",
    "                            listaEliminar.append(j)\n",
    "    \n",
    "    print 'VARIABLES A ELIMINAR: {}'.format(listaEliminar)                   \n",
    "    for i in list(set(listaEliminar)):\n",
    "        print'Eliminando:  {}'.format(i)\n",
    "        data=data.drop(i, 1)\n",
    "    return data\n",
    "                \n",
    "\n",
    "y=data['Difference']\n",
    "del data['Difference']\n",
    "data=FCB_filtering(data, y , .9)\n",
    "\n"
   ]
  },
  {
   "cell_type": "code",
   "execution_count": 244,
   "metadata": {
    "collapsed": false
   },
   "outputs": [
    {
     "data": {
      "text/html": [
       "<div>\n",
       "<table border=\"1\" class=\"dataframe\">\n",
       "  <thead>\n",
       "    <tr style=\"text-align: right;\">\n",
       "      <th></th>\n",
       "      <th>Price</th>\n",
       "      <th>SP500</th>\n",
       "      <th>DE Ratio</th>\n",
       "      <th>Trailing P/E</th>\n",
       "      <th>Price/Book</th>\n",
       "      <th>Profit Margin</th>\n",
       "      <th>Operating Margin</th>\n",
       "      <th>Return on Assets</th>\n",
       "      <th>Return on Equity</th>\n",
       "      <th>Revenue Per Share</th>\n",
       "      <th>...</th>\n",
       "      <th>Total Debt</th>\n",
       "      <th>Current Ratio</th>\n",
       "      <th>Book Value Per Share</th>\n",
       "      <th>Cash Flow</th>\n",
       "      <th>Beta</th>\n",
       "      <th>Held by Insiders</th>\n",
       "      <th>Held by Institutions</th>\n",
       "      <th>Short Ratio</th>\n",
       "      <th>Short % of Float</th>\n",
       "      <th>Shares Short (prior</th>\n",
       "    </tr>\n",
       "  </thead>\n",
       "  <tbody>\n",
       "    <tr>\n",
       "      <th>count</th>\n",
       "      <td>2948.000000</td>\n",
       "      <td>2948.000000</td>\n",
       "      <td>2948.000000</td>\n",
       "      <td>2948.000000</td>\n",
       "      <td>2948.000000</td>\n",
       "      <td>2948.000000</td>\n",
       "      <td>2948.000000</td>\n",
       "      <td>2948.000000</td>\n",
       "      <td>2948.000000</td>\n",
       "      <td>2948.000000</td>\n",
       "      <td>...</td>\n",
       "      <td>2948.000000</td>\n",
       "      <td>2948.000000</td>\n",
       "      <td>2948.000000</td>\n",
       "      <td>2948.000000</td>\n",
       "      <td>2948.000000</td>\n",
       "      <td>2948.000000</td>\n",
       "      <td>2948.000000</td>\n",
       "      <td>2948.000000</td>\n",
       "      <td>2948.000000</td>\n",
       "      <td>2948.000000</td>\n",
       "    </tr>\n",
       "    <tr>\n",
       "      <th>mean</th>\n",
       "      <td>0.000682</td>\n",
       "      <td>-0.000190</td>\n",
       "      <td>0.000812</td>\n",
       "      <td>0.001764</td>\n",
       "      <td>0.001550</td>\n",
       "      <td>-0.007572</td>\n",
       "      <td>-0.005242</td>\n",
       "      <td>0.000238</td>\n",
       "      <td>0.002490</td>\n",
       "      <td>-0.006177</td>\n",
       "      <td>...</td>\n",
       "      <td>0.001128</td>\n",
       "      <td>-0.005378</td>\n",
       "      <td>-0.042073</td>\n",
       "      <td>-0.015513</td>\n",
       "      <td>-0.004072</td>\n",
       "      <td>-0.001775</td>\n",
       "      <td>-0.001067</td>\n",
       "      <td>0.004045</td>\n",
       "      <td>0.001362</td>\n",
       "      <td>-0.000870</td>\n",
       "    </tr>\n",
       "    <tr>\n",
       "      <th>std</th>\n",
       "      <td>1.002206</td>\n",
       "      <td>1.002085</td>\n",
       "      <td>0.999638</td>\n",
       "      <td>1.009559</td>\n",
       "      <td>1.010805</td>\n",
       "      <td>0.995205</td>\n",
       "      <td>0.999295</td>\n",
       "      <td>1.005596</td>\n",
       "      <td>1.010386</td>\n",
       "      <td>0.998512</td>\n",
       "      <td>...</td>\n",
       "      <td>1.010197</td>\n",
       "      <td>1.005473</td>\n",
       "      <td>0.815669</td>\n",
       "      <td>0.967431</td>\n",
       "      <td>1.007310</td>\n",
       "      <td>0.994068</td>\n",
       "      <td>1.002359</td>\n",
       "      <td>0.993015</td>\n",
       "      <td>0.995327</td>\n",
       "      <td>0.991084</td>\n",
       "    </tr>\n",
       "    <tr>\n",
       "      <th>min</th>\n",
       "      <td>-0.890003</td>\n",
       "      <td>-1.438939</td>\n",
       "      <td>-0.577365</td>\n",
       "      <td>-0.606601</td>\n",
       "      <td>-0.230441</td>\n",
       "      <td>-1.228568</td>\n",
       "      <td>-1.569847</td>\n",
       "      <td>-1.686806</td>\n",
       "      <td>-0.476770</td>\n",
       "      <td>-0.876503</td>\n",
       "      <td>...</td>\n",
       "      <td>-0.310067</td>\n",
       "      <td>-0.658123</td>\n",
       "      <td>-0.900304</td>\n",
       "      <td>-0.359701</td>\n",
       "      <td>-1.162193</td>\n",
       "      <td>-0.517313</td>\n",
       "      <td>-4.044501</td>\n",
       "      <td>-1.127802</td>\n",
       "      <td>-0.705766</td>\n",
       "      <td>-0.567211</td>\n",
       "    </tr>\n",
       "    <tr>\n",
       "      <th>25%</th>\n",
       "      <td>-0.445250</td>\n",
       "      <td>-0.784948</td>\n",
       "      <td>-0.567618</td>\n",
       "      <td>-0.279427</td>\n",
       "      <td>-0.146105</td>\n",
       "      <td>-0.646836</td>\n",
       "      <td>-0.731108</td>\n",
       "      <td>-0.705503</td>\n",
       "      <td>-0.254140</td>\n",
       "      <td>-0.577078</td>\n",
       "      <td>...</td>\n",
       "      <td>-0.282948</td>\n",
       "      <td>-0.327028</td>\n",
       "      <td>-0.485241</td>\n",
       "      <td>-0.337571</td>\n",
       "      <td>-0.571380</td>\n",
       "      <td>-0.495550</td>\n",
       "      <td>-0.492850</td>\n",
       "      <td>-0.579420</td>\n",
       "      <td>-0.491033</td>\n",
       "      <td>-0.426250</td>\n",
       "    </tr>\n",
       "    <tr>\n",
       "      <th>50%</th>\n",
       "      <td>-0.188117</td>\n",
       "      <td>-0.282468</td>\n",
       "      <td>-0.363158</td>\n",
       "      <td>-0.155373</td>\n",
       "      <td>-0.098113</td>\n",
       "      <td>-0.265265</td>\n",
       "      <td>-0.214711</td>\n",
       "      <td>-0.187770</td>\n",
       "      <td>-0.154369</td>\n",
       "      <td>-0.302338</td>\n",
       "      <td>...</td>\n",
       "      <td>-0.208757</td>\n",
       "      <td>-0.170577</td>\n",
       "      <td>-0.241528</td>\n",
       "      <td>-0.294338</td>\n",
       "      <td>-0.101415</td>\n",
       "      <td>-0.436709</td>\n",
       "      <td>0.161957</td>\n",
       "      <td>-0.276517</td>\n",
       "      <td>-0.309983</td>\n",
       "      <td>-0.291454</td>\n",
       "    </tr>\n",
       "    <tr>\n",
       "      <th>75%</th>\n",
       "      <td>0.182959</td>\n",
       "      <td>0.594950</td>\n",
       "      <td>0.151002</td>\n",
       "      <td>0.012500</td>\n",
       "      <td>-0.017039</td>\n",
       "      <td>0.369543</td>\n",
       "      <td>0.497129</td>\n",
       "      <td>0.507583</td>\n",
       "      <td>-0.013782</td>\n",
       "      <td>0.204622</td>\n",
       "      <td>...</td>\n",
       "      <td>-0.000662</td>\n",
       "      <td>0.120495</td>\n",
       "      <td>0.207302</td>\n",
       "      <td>-0.121528</td>\n",
       "      <td>0.424499</td>\n",
       "      <td>0.039659</td>\n",
       "      <td>0.649003</td>\n",
       "      <td>0.224279</td>\n",
       "      <td>0.098430</td>\n",
       "      <td>-0.009078</td>\n",
       "    </tr>\n",
       "    <tr>\n",
       "      <th>max</th>\n",
       "      <td>14.651209</td>\n",
       "      <td>2.293526</td>\n",
       "      <td>11.270837</td>\n",
       "      <td>19.711005</td>\n",
       "      <td>35.396854</td>\n",
       "      <td>9.624431</td>\n",
       "      <td>4.300865</td>\n",
       "      <td>5.984040</td>\n",
       "      <td>18.541501</td>\n",
       "      <td>10.221551</td>\n",
       "      <td>...</td>\n",
       "      <td>18.412231</td>\n",
       "      <td>45.964308</td>\n",
       "      <td>14.169985</td>\n",
       "      <td>12.437891</td>\n",
       "      <td>39.006403</td>\n",
       "      <td>8.158885</td>\n",
       "      <td>11.937658</td>\n",
       "      <td>11.587525</td>\n",
       "      <td>8.687752</td>\n",
       "      <td>13.530943</td>\n",
       "    </tr>\n",
       "  </tbody>\n",
       "</table>\n",
       "<p>8 rows × 30 columns</p>\n",
       "</div>"
      ],
      "text/plain": [
       "             Price        SP500     DE Ratio  Trailing P/E   Price/Book  \\\n",
       "count  2948.000000  2948.000000  2948.000000   2948.000000  2948.000000   \n",
       "mean      0.000682    -0.000190     0.000812      0.001764     0.001550   \n",
       "std       1.002206     1.002085     0.999638      1.009559     1.010805   \n",
       "min      -0.890003    -1.438939    -0.577365     -0.606601    -0.230441   \n",
       "25%      -0.445250    -0.784948    -0.567618     -0.279427    -0.146105   \n",
       "50%      -0.188117    -0.282468    -0.363158     -0.155373    -0.098113   \n",
       "75%       0.182959     0.594950     0.151002      0.012500    -0.017039   \n",
       "max      14.651209     2.293526    11.270837     19.711005    35.396854   \n",
       "\n",
       "       Profit Margin  Operating Margin  Return on Assets  Return on Equity  \\\n",
       "count    2948.000000       2948.000000       2948.000000       2948.000000   \n",
       "mean       -0.007572         -0.005242          0.000238          0.002490   \n",
       "std         0.995205          0.999295          1.005596          1.010386   \n",
       "min        -1.228568         -1.569847         -1.686806         -0.476770   \n",
       "25%        -0.646836         -0.731108         -0.705503         -0.254140   \n",
       "50%        -0.265265         -0.214711         -0.187770         -0.154369   \n",
       "75%         0.369543          0.497129          0.507583         -0.013782   \n",
       "max         9.624431          4.300865          5.984040         18.541501   \n",
       "\n",
       "       Revenue Per Share          ...            Total Debt  Current Ratio  \\\n",
       "count        2948.000000          ...           2948.000000    2948.000000   \n",
       "mean           -0.006177          ...              0.001128      -0.005378   \n",
       "std             0.998512          ...              1.010197       1.005473   \n",
       "min            -0.876503          ...             -0.310067      -0.658123   \n",
       "25%            -0.577078          ...             -0.282948      -0.327028   \n",
       "50%            -0.302338          ...             -0.208757      -0.170577   \n",
       "75%             0.204622          ...             -0.000662       0.120495   \n",
       "max            10.221551          ...             18.412231      45.964308   \n",
       "\n",
       "       Book Value Per Share    Cash Flow         Beta  Held by Insiders  \\\n",
       "count           2948.000000  2948.000000  2948.000000       2948.000000   \n",
       "mean              -0.042073    -0.015513    -0.004072         -0.001775   \n",
       "std                0.815669     0.967431     1.007310          0.994068   \n",
       "min               -0.900304    -0.359701    -1.162193         -0.517313   \n",
       "25%               -0.485241    -0.337571    -0.571380         -0.495550   \n",
       "50%               -0.241528    -0.294338    -0.101415         -0.436709   \n",
       "75%                0.207302    -0.121528     0.424499          0.039659   \n",
       "max               14.169985    12.437891    39.006403          8.158885   \n",
       "\n",
       "       Held by Institutions  Short Ratio  Short % of Float  \\\n",
       "count           2948.000000  2948.000000       2948.000000   \n",
       "mean              -0.001067     0.004045          0.001362   \n",
       "std                1.002359     0.993015          0.995327   \n",
       "min               -4.044501    -1.127802         -0.705766   \n",
       "25%               -0.492850    -0.579420         -0.491033   \n",
       "50%                0.161957    -0.276517         -0.309983   \n",
       "75%                0.649003     0.224279          0.098430   \n",
       "max               11.937658    11.587525          8.687752   \n",
       "\n",
       "       Shares Short (prior   \n",
       "count           2948.000000  \n",
       "mean              -0.000870  \n",
       "std                0.991084  \n",
       "min               -0.567211  \n",
       "25%               -0.426250  \n",
       "50%               -0.291454  \n",
       "75%               -0.009078  \n",
       "max               13.530943  \n",
       "\n",
       "[8 rows x 30 columns]"
      ]
     },
     "execution_count": 244,
     "metadata": {},
     "output_type": "execute_result"
    }
   ],
   "source": [
    "data.describe()"
   ]
  },
  {
   "cell_type": "code",
   "execution_count": 232,
   "metadata": {
    "collapsed": false
   },
   "outputs": [
    {
     "data": {
      "text/plain": [
       "Index([u'Date', u'Ticker', u'Price', u'SP500', u'DE Ratio', u'Trailing P/E',\n",
       "       u'Price/Book', u'Profit Margin', u'Operating Margin',\n",
       "       u'Return on Assets', u'Return on Equity', u'Revenue Per Share',\n",
       "       u'Market Cap', u'Forward P/E', u'PEG Ratio', u'Enterprise Value/EBITDA',\n",
       "       u'Revenue', u'Diluted EPS', u'Earnings Growth', u'Revenue Growth',\n",
       "       u'Total Cash', u'Total Cash Per Share', u'Total Debt', u'Current Ratio',\n",
       "       u'Book Value Per Share', u'Cash Flow', u'Beta', u'Held by Insiders',\n",
       "       u'Held by Institutions', u'Short Ratio', u'Short % of Float',\n",
       "       u'Shares Short (prior ', u'Status'],\n",
       "      dtype='object')"
      ]
     },
     "execution_count": 232,
     "metadata": {},
     "output_type": "execute_result"
    }
   ],
   "source": [
    "data.columns\n",
    "\n"
   ]
  },
  {
   "cell_type": "markdown",
   "metadata": {},
   "source": [
    "Eliminamos X variables que tenian una correlación mayor a .9 con variables significativas. Ahora podemos aplicar Aprendizaje de Maquina a nuestros datos y comprar resultados."
   ]
  },
  {
   "cell_type": "code",
   "execution_count": null,
   "metadata": {
    "collapsed": true
   },
   "outputs": [],
   "source": []
  },
  {
   "cell_type": "markdown",
   "metadata": {},
   "source": [
    "### Aprendizaje de Máquina y modelado\n",
    "Primero nos guataría ver los resultados del ejercicio anterior en una regresión lineal. Este modelo nos permitira hacer un check sobre nuestros datos y los coeficientes deberían ser altos para 'Short % of Float', 'Earnings Growth', 'Market Cap', 'Enterprise Value', 'PEG Ratio'.\n",
    "Vamos a dividir nuestro conjunto de datos en entrenamiento y prueba para proceder con el analisis. Asimismo convertiremos la variable y en una variable numérca.\n"
   ]
  },
  {
   "cell_type": "code",
   "execution_count": 245,
   "metadata": {
    "collapsed": false
   },
   "outputs": [
    {
     "name": "stdout",
     "output_type": "stream",
     "text": [
      "CARGANDO DATOS\n"
     ]
    }
   ],
   "source": [
    "print('CARGANDO DATOS')\n",
    "\n",
    "data = data.replace(\"NaN\",0).replace(\"N/A\",0)\n",
    "y = (data['Status']\n",
    "         .replace(\"underperform\",0)\n",
    "         .replace(\"outperform\",1)\n",
    "         .values.tolist())\n",
    "for i in data.columns:\n",
    "    if type(data[i][1])==str:\n",
    "        del data[i]\n",
    "        \n",
    "\n",
    "X = data\n",
    "\n",
    "X_train, X_test, Y_train, Y_test = train_test_split(X, y , train_size=0.75)\n"
   ]
  },
  {
   "cell_type": "code",
   "execution_count": 247,
   "metadata": {
    "collapsed": false
   },
   "outputs": [
    {
     "name": "stdout",
     "output_type": "stream",
     "text": [
      "GENERANDO MODELOS\n",
      " Capacidad de Prediccion de Modelo Lineal: \n",
      "0.587516960651\n",
      "\n",
      " \tMétricas clasicas de Clasificadores: \n",
      "             precision    recall  f1-score   support\n",
      "\n",
      "          0       0.28      0.56      0.38       164\n",
      "          1       0.83      0.60      0.69       573\n",
      "\n",
      "avg / total       0.71      0.59      0.62       737\n",
      "\n",
      "[[-0.41392823  0.05076787 -0.30479715  0.0879962   0.08506473 -0.12467796\n",
      "   0.25433647 -0.19324805  0.05580332  0.10613252 -0.26766345  0.13188685\n",
      "  -0.08424704  0.02837763 -0.38618545  0.26552289  0.12963716 -0.13498053\n",
      "   0.04436224  0.18770303  0.07502243  0.05109437 -0.2237569   0.15197189\n",
      "  -0.03595403  0.06029137  0.30065747 -0.00423165 -0.05148744 -0.00445367]]\n"
     ]
    }
   ],
   "source": [
    "print('GENERANDO MODELOS')\n",
    "\n",
    "model = svm.SVC(kernel=\"linear\", C= 1.0)\n",
    "model.fit(X_train,Y_train)\n",
    "y_model = model.predict(X_test)\n",
    "print(' Capacidad de Prediccion de Modelo Lineal: ')\n",
    "print(accuracy_score(Y_test, y_model))\n",
    "print ('\\n \\tMétricas clasicas de Clasificadores: ' )\n",
    "print(metrics.classification_report(y_model, Y_test))\n",
    "\n"
   ]
  },
  {
   "cell_type": "code",
   "execution_count": 253,
   "metadata": {
    "collapsed": false
   },
   "outputs": [
    {
     "name": "stdout",
     "output_type": "stream",
     "text": [
      " Capacidad de prediccion Tree : \n",
      "0.68249660787\n",
      "\n",
      " \tMétricas clasicas de Clasificadores: \n",
      "             precision    recall  f1-score   support\n",
      "\n",
      "          0       0.66      0.63      0.65       338\n",
      "          1       0.70      0.72      0.71       399\n",
      "\n",
      "avg / total       0.68      0.68      0.68       737\n",
      "\n"
     ]
    }
   ],
   "source": [
    "\n",
    "model = tree.DecisionTreeClassifier()\n",
    "model = model.fit(X_train, Y_train)\n",
    "y_model = model.predict(X_test)\n",
    "\n",
    "print(' Capacidad de prediccion Tree : ')\n",
    "print(accuracy_score(Y_test, y_model))\n",
    "print ('\\n \\tMétricas clasicas de Clasificadores: ' )\n",
    "print(metrics.classification_report(y_model, Y_test))\n",
    "\n",
    "tree.export_graphviz(model, out_file='dataClasification.dot') \n",
    "\n",
    "\n"
   ]
  },
  {
   "cell_type": "code",
   "execution_count": 249,
   "metadata": {
    "collapsed": false
   },
   "outputs": [
    {
     "name": "stdout",
     "output_type": "stream",
     "text": [
      " Capacidad de prediccion Tree : \n",
      "0.689280868385\n",
      "\n",
      " \tMétricas clasicas de Clasificadores: \n",
      "             precision    recall  f1-score   support\n",
      "\n",
      "          0       0.68      0.64      0.66       345\n",
      "          1       0.70      0.73      0.72       392\n",
      "\n",
      "avg / total       0.69      0.69      0.69       737\n",
      "\n"
     ]
    }
   ],
   "source": [
    "\n",
    "model = RandomForestClassifier(n_estimators=100)\n",
    "model.fit(X_train, Y_train)\n",
    "y_model = model.predict(X_test)\n",
    "\n",
    "print(' Capacidad de prediccion RandomForestClassifier : ')\n",
    "print(accuracy_score(Y_test, y_model))\n",
    "print ('\\n \\tMétricas clasicas de Clasificadores: ' )\n",
    "print(metrics.classification_report(y_model, Y_test))\n"
   ]
  },
  {
   "cell_type": "markdown",
   "metadata": {},
   "source": [
    "### Conclusiones"
   ]
  },
  {
   "cell_type": "code",
   "execution_count": null,
   "metadata": {
    "collapsed": true
   },
   "outputs": [],
   "source": []
  }
 ],
 "metadata": {
  "anaconda-cloud": {},
  "kernelspec": {
   "display_name": "Python [Root]",
   "language": "python",
   "name": "Python [Root]"
  },
  "language_info": {
   "codemirror_mode": {
    "name": "ipython",
    "version": 2
   },
   "file_extension": ".py",
   "mimetype": "text/x-python",
   "name": "python",
   "nbconvert_exporter": "python",
   "pygments_lexer": "ipython2",
   "version": "2.7.12"
  }
 },
 "nbformat": 4,
 "nbformat_minor": 0
}
