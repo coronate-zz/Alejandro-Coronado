{
 "cells": [
  {
   "cell_type": "markdown",
   "metadata": {},
   "source": [
    "El siguiente proyecto implementa Aprendizaje de Maquina sobre el precio de las accione"
   ]
  },
  {
   "cell_type": "code",
   "execution_count": null,
   "metadata": {
    "collapsed": true
   },
   "outputs": [],
   "source": []
  },
  {
   "cell_type": "code",
   "execution_count": null,
   "metadata": {
    "collapsed": true
   },
   "outputs": [],
   "source": []
  },
  {
   "cell_type": "code",
   "execution_count": null,
   "metadata": {
    "collapsed": true
   },
   "outputs": [],
   "source": []
  },
  {
   "cell_type": "code",
   "execution_count": null,
   "metadata": {
    "collapsed": true
   },
   "outputs": [],
   "source": []
  },
  {
   "cell_type": "code",
   "execution_count": null,
   "metadata": {
    "collapsed": true
   },
   "outputs": [],
   "source": [
    "\n",
    "       \n",
    "def FCB_filtering(data, y):\n",
    "    lista=list()\n",
    "    corrY=list()\n",
    "    names=list()\n",
    "    #Primero definimos el orden utilizando la correlación con y \n",
    "    for i in data :\n",
    "\n",
    "        if isinstance(data[i][1], str) :\n",
    "            print('valores no numericos')\n",
    "        else:\n",
    "            print(np.abs(np.corrcoef( data[i] , y ))[1,0] )\n",
    "            corrY.append(  np.abs(np.corrcoef( data[i] , y )[1,0] ) )\n",
    "            names.append(i)    \n",
    "\n",
    "    order= [names for (corrY,names) in sorted(zip(corrY,names))]\n",
    "    \n",
    "    \n",
    "    for i in order:\n",
    "        for j in order:\n",
    "        \n",
    "            if isinstance(data[i][1], str) :\n",
    "                print('datos no numericos')\n",
    "            elif isinstance(data[j][1], str) :\n",
    "                print('datos no numericos')\n",
    "                    \n",
    "            else:\n",
    "                if data[i].name==data[j].name:\n",
    "                    print('variables iguales')\n",
    "                else:\n",
    "                    print(np.abs(np.corrcoef( data[i] , data[j])[1,0] ))\n",
    "                                \n",
    "                    if( np.abs(np.corrcoef( data[i] , data[j])[1,0] ) > .5):\n",
    "                        lista.append(i)\n",
    "                        \n",
    "    for i in list(set(lista)):\n",
    "        data=data.drop(i, 1)\n",
    "    return data\n",
    "                \n",
    "\n",
    "\n",
    "\n",
    "data = pd.DataFrame(np.random.randn(50, 7), columns=list('ABCDEFG'))\n",
    "data.head()\n",
    "\n"
   ]
  }
 ],
 "metadata": {
  "kernelspec": {
   "display_name": "Python [Root]",
   "language": "python",
   "name": "Python [Root]"
  },
  "language_info": {
   "codemirror_mode": {
    "name": "ipython",
    "version": 2
   },
   "file_extension": ".py",
   "mimetype": "text/x-python",
   "name": "python",
   "nbconvert_exporter": "python",
   "pygments_lexer": "ipython2",
   "version": "2.7.12"
  }
 },
 "nbformat": 4,
 "nbformat_minor": 0
}
